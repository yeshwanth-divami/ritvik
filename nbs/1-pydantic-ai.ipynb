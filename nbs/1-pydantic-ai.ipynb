{
 "cells": [
  {
   "cell_type": "code",
   "execution_count": null,
   "id": "8d1e710c",
   "metadata": {},
   "outputs": [],
   "source": [
    "# default_exp"
   ]
  },
  {
   "cell_type": "code",
   "execution_count": 1,
   "id": "2ea34efb",
   "metadata": {},
   "outputs": [
    {
     "name": "stdout",
     "output_type": "stream",
     "text": [
      "/Users/yeshwanth/Code/Divami/ai/ritvik\n"
     ]
    }
   ],
   "source": [
    "%cd /Users/yeshwanth/Code/Divami/ai/ritvik"
   ]
  },
  {
   "cell_type": "code",
   "execution_count": 2,
   "id": "bca51b9f",
   "metadata": {},
   "outputs": [
    {
     "data": {
      "text/plain": [
       "True"
      ]
     },
     "execution_count": 2,
     "metadata": {},
     "output_type": "execute_result"
    }
   ],
   "source": [
    "from dotenv import load_dotenv\n",
    "\n",
    "load_dotenv()"
   ]
  },
  {
   "cell_type": "code",
   "execution_count": null,
   "id": "3f887a91",
   "metadata": {},
   "outputs": [],
   "source": [
    "# | export\n",
    "from pydantic_ai import Agent\n",
    "\n",
    "from ritvik.models import Task\n",
    "from ritvik.utils.ollama import make_ollama_model"
   ]
  },
  {
   "cell_type": "code",
   "execution_count": null,
   "id": "7cb3dff3",
   "metadata": {},
   "outputs": [],
   "source": [
    "agent = Agent(make_ollama_model(), output_type=Task)"
   ]
  },
  {
   "cell_type": "code",
   "execution_count": null,
   "id": "c0193978",
   "metadata": {},
   "outputs": [],
   "source": [
    "output = await agent.run(\n",
    "    \"Create a task to Yeshawnth from Dinesh regarding giving a demo on Ritvik to the client tomorrow at 10 AM.\"\n",
    ")"
   ]
  },
  {
   "cell_type": "code",
   "execution_count": 20,
   "id": "5263a16b",
   "metadata": {},
   "outputs": [
    {
     "data": {
      "text/plain": [
       "{'asigner': 'Dinesh',\n",
       " 'asignee': 'Yeshawnth',\n",
       " 'request_date': datetime.datetime(2025, 7, 1, 0, 0),\n",
       " 'task': 'Give a demo on Ritvik to the client',\n",
       " 'deadline': datetime.datetime(2025, 7, 2, 10, 0),\n",
       " 'status': 'incomplete',\n",
       " 'task_id': UUID('982afcb2-41df-41c1-8cb2-2c51f3c9ffd5')}"
      ]
     },
     "execution_count": 20,
     "metadata": {},
     "output_type": "execute_result"
    }
   ],
   "source": [
    "output.output.model_dump()"
   ]
  },
  {
   "cell_type": "code",
   "execution_count": null,
   "id": "df600ee6",
   "metadata": {},
   "outputs": [],
   "source": []
  }
 ],
 "metadata": {
  "kernelspec": {
   "display_name": ".venv",
   "language": "python",
   "name": "python3"
  },
  "language_info": {
   "codemirror_mode": {
    "name": "ipython",
    "version": 3
   },
   "file_extension": ".py",
   "mimetype": "text/x-python",
   "name": "python",
   "nbconvert_exporter": "python",
   "pygments_lexer": "ipython3",
   "version": "3.12.10"
  }
 },
 "nbformat": 4,
 "nbformat_minor": 5
}
